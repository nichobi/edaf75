{
 "cells": [
  {
   "cell_type": "markdown",
   "id": "87046e51",
   "metadata": {},
   "source": [
    "<!-- -*- mode: markdown; coding: utf-8; fill-column: 60; ispell-dictionary: \"english\" -*- -->\n",
    "\n",
    "<meta charset=\"utf-8\"/>\n",
    "<meta name=\"viewport\" content=\"width=device-width,initial-scale=1\"/>\n",
    "<link rel=\"stylesheet\" href=\"style.css\">\n",
    "\n",
    "\n",
    "# EDAF75 - lab 1: SQL\n",
    "\n",
    "This lab is meant to be run as a `jupyter` notebook, you\n",
    "could download it [here](lab1.zip) (the zip-file contains\n",
    "the notebook and the database, and a [.html-file](lab1.html)\n",
    "which you can read in case you have problems reading/running\n",
    "jupyter notebooks).\n",
    "\n",
    "To start your notebook, you can use the following commands\n",
    "(after you've downloaded [the zip file](lab1.zip)):"
   ]
  },
  {
   "cell_type": "markdown",
   "id": "5f0722ad",
   "metadata": {},
   "source": [
    "```sh\n",
    "unzip lab1.zip\n",
    "jupyter notebook\n",
    "```\n"
   ]
  },
  {
   "cell_type": "markdown",
   "id": "ec88077b",
   "metadata": {},
   "source": [
    "This should start jupyter in a browser tab, and there you\n",
    "can click \"lab1.ipynb\".\n",
    "\n",
    "\n",
    "## Background\n",
    "\n",
    "We have a database to handle the academic achievements of\n",
    "students at LTH -- in it we have three tables:\n",
    "\n",
    "<hr>\n",
    "<table rules=\"all\">\n",
    " <tr>\n",
    "  <th align=\"left\"><code>students:</code></th>\n",
    "  <th></th>\n",
    " </tr>\n",
    " <tr>\n",
    "  <td><code>ssn</code></td>\n",
    "  <td>social security number</td>\n",
    " </tr>\n",
    " <tr>\n",
    "  <td><code>first_name</code></td>\n",
    "  <td>first name (obviously!)</td>\n",
    " </tr>\n",
    " <tr>\n",
    "  <td><code>last_name</code></td>\n",
    "  <td>last name</td>\n",
    " </tr>\n",
    "</table>\n",
    "\n",
    "<hr>\n",
    "\n",
    "<table rules=\"all\">\n",
    " <tr>\n",
    "  <th align=\"left\"><code>courses:</code></th>\n",
    "  <th></th>\n",
    " </tr>\n",
    " <tr>\n",
    "  <td><code>course_code</code></td>\n",
    "  <td>course code, like <code>EDAF75</code></td>\n",
    " </tr>\n",
    " <tr>\n",
    "  <td><code>course_name</code></td>\n",
    "  <td>the name of the course, like \"Database Technology\"</td>\n",
    " </tr>\n",
    " <tr>\n",
    "  <td><code>level</code></td>\n",
    "  <td>the course level, like \"G1\", \"G2\", or \"A\"</td>\n",
    " </tr>\n",
    " <tr>\n",
    "  <td><code>credits</code></td>\n",
    "  <td>the number of credits for the course, like 7.5</td>\n",
    " </tr>\n",
    "</table>\n",
    "\n",
    "<hr>\n",
    "\n",
    "<table rules=\"all\">\n",
    " <tr>\n",
    "  <th align=\"left\"><code>taken_courses:</code></th>\n",
    "  <th></th>\n",
    " </tr>\n",
    " <tr>\n",
    "  <td><code>ssn</code></td>\n",
    "  <td>the social security number of a student</td>\n",
    " </tr>\n",
    " <tr>\n",
    "  <td><code>course_code</code></td>\n",
    "  <td>the course code for the course the student has taken</td>\n",
    " </tr>\n",
    " <tr>\n",
    "  <td><code>grade</code></td>\n",
    "  <td>the grade for the student passing the course</td>\n",
    " </tr>\n",
    "</table>\n",
    "\n",
    "<hr>\n",
    "\n",
    "<center>\n",
    "  <img src=\"lab1.png\">\n",
    "</center>\n",
    "\n",
    "Some sample data:"
   ]
  },
  {
   "cell_type": "markdown",
   "id": "e581133c",
   "metadata": {},
   "source": [
    "```text\n",
    "ssn           first_name   last_name\n",
    "---           ----------   ---------\n",
    "861103–2438   Bo           Ek\n",
    "911212–1746   Eva          Alm\n",
    "950829–1848   Anna         Nyström\n",
    "...           ...          ...\n",
    "\n",
    "course_code   course_name                   level    credits\n",
    "-----------   -----------                   -----    -------\n",
    "EDA016        Programmeringsteknik          G1       7.5\n",
    "EDAA01        Programmeringsteknik - FK     G1       7.5\n",
    "EDA230        Optimerande kompilatorer      A        7.5\n",
    "...           ...                           ...      ...\n",
    "\n",
    "ssn           course_code   grade\n",
    "---           -----------   -----\n",
    "861103–2438   EDA016        4\n",
    "861103–2438   EDAA01        3\n",
    "911212–1746   EDA016        3\n",
    "...           ...           ...\n",
    "```\n"
   ]
  },
  {
   "cell_type": "markdown",
   "id": "9f0f7e3a",
   "metadata": {},
   "source": [
    "The tables have been created with the following SQL\n",
    "statements:"
   ]
  },
  {
   "cell_type": "markdown",
   "id": "b6eb45a6",
   "metadata": {},
   "source": [
    "```sql\n",
    "CREATE TABLE students (\n",
    "  ssn          CHAR(11),\n",
    "  first_name   TEXT NOT NULL,\n",
    "  last_name    TEXT NOT NULL,\n",
    "  PRIMARY KEY  (ssn)\n",
    ");\n",
    "\n",
    "CREATE TABLE courses (\n",
    "  course_code   CHAR(6),\n",
    "  course_name   TEXT NOT NULL,\n",
    "  level         CHAR(2),\n",
    "  credits       DOUBLE NOT NULL CHECK (credits > 0),\n",
    "  PRIMARY KEY   (course_code)\n",
    ");\n",
    "\n",
    "CREATE TABLE taken_courses (\n",
    "  ssn           CHAR(11),\n",
    "  course_code   CHAR(6),\n",
    "  grade         INTEGER NOT NULL CHECK (grade >= 3 AND grade <= 5),\n",
    "  PRIMARY KEY   (ssn, course_code),\n",
    "  FOREIGN KEY   (ssn) REFERENCES students(ssn),\n",
    "  FOREIGN KEY   (course_code) REFERENCES courses(course_code)\n",
    ");\n",
    "```\n"
   ]
  },
  {
   "cell_type": "markdown",
   "id": "948bdc13",
   "metadata": {},
   "source": [
    "All courses offered at the \"Computer Science and\n",
    "Engineering\" program at LTH during the academic year 2013/14\n",
    "are in the table 'courses`. Also, the database has been\n",
    "filled with made up data. SQL statements like the following\n",
    "have been used to insert the data:"
   ]
  },
  {
   "cell_type": "markdown",
   "id": "f87445bf",
   "metadata": {},
   "source": [
    "```sql\n",
    "INTO   students(ssn, first_name, last_name)\n",
    "VALUES ('950705-2308', 'Anna', 'Johansson'),\n",
    "       ('930702-3582', 'Anna', 'Johansson'),\n",
    "       ('911212-1746', 'Eva', 'Alm'),\n",
    "       ('910707-3787', 'Eva', 'Nilsson'),\n",
    "       ...\n",
    "```\n"
   ]
  },
  {
   "cell_type": "markdown",
   "id": "bb4b57a3",
   "metadata": {},
   "source": [
    "## Assignments\n",
    "\n",
    "As said above, this lab is designed to be run as a jupyter\n",
    "notebook. If you haven't got jupyter running, you can run\n",
    "the sql-commands for the problems below interactively inside\n",
    "sqlite3, or as a script file with all your commands, or\n",
    "inside some IDE, like [DB Browser for\n",
    "SQLite](https://sqlitebrowser.org/).\n",
    "\n",
    "If you're running the lab as a notebook (and hopefully you\n",
    "are!), evaluate the following cells before you begin:"
   ]
  },
  {
   "cell_type": "code",
   "execution_count": null,
   "id": "514b5b02",
   "metadata": {},
   "outputs": [],
   "source": [
    "%load_ext sql"
   ]
  },
  {
   "cell_type": "code",
   "execution_count": null,
   "id": "5419151c",
   "metadata": {},
   "outputs": [],
   "source": [
    "%sql sqlite:///lab1.sqlite"
   ]
  },
  {
   "cell_type": "markdown",
   "id": "ae65f43b",
   "metadata": {},
   "source": [
    "The tables `students`, `courses` and `taken_courses` are\n",
    "already in your database, you can see some of their contents\n",
    "by running the cells below:"
   ]
  },
  {
   "cell_type": "code",
   "execution_count": null,
   "id": "6ca94cee",
   "metadata": {},
   "outputs": [],
   "source": [
    "%%sql\n",
    "SELECT  *\n",
    "FROM    students\n",
    "LIMIT   4"
   ]
  },
  {
   "cell_type": "code",
   "execution_count": null,
   "id": "aae8d0db",
   "metadata": {},
   "outputs": [],
   "source": [
    "%%sql\n",
    "SELECT  *\n",
    "FROM    courses\n",
    "LIMIT   4"
   ]
  },
  {
   "cell_type": "code",
   "execution_count": null,
   "id": "098f8525",
   "metadata": {},
   "outputs": [],
   "source": [
    "%%sql\n",
    "SELECT  *\n",
    "FROM    taken_courses\n",
    "LIMIT   4"
   ]
  },
  {
   "cell_type": "markdown",
   "id": "e4fa99b2",
   "metadata": {},
   "source": [
    "If you inadvertently change the contents of the tables, you\n",
    "can always recreate the them with the following command (it\n",
    "must be run at the command line):"
   ]
  },
  {
   "cell_type": "markdown",
   "id": "a1197263",
   "metadata": {},
   "source": [
    "```sh\n",
    "sqlite3 lab1.sqlite < lab1-setup.sql\n",
    "```\n"
   ]
  },
  {
   "cell_type": "markdown",
   "id": "d8e9d853",
   "metadata": {},
   "source": [
    "After some of the questions there is a number in brackets.\n",
    "This is the number of rows generated by the question. For\n",
    "instance, [72] after question a) means that there are 72\n",
    "students in the database, you can use that number as an\n",
    "indicatation of if your answer is in the right ballpark.\n",
    "\n",
    "a) What are the names (first name, last name) of all the\n",
    "   students? [72]"
   ]
  },
  {
   "cell_type": "code",
   "execution_count": null,
   "id": "d6c65535",
   "metadata": {},
   "outputs": [],
   "source": [
    "%%sql\n"
   ]
  },
  {
   "cell_type": "markdown",
   "id": "1b845a9e",
   "metadata": {},
   "source": [
    "b) Same as question a) but produce a sorted listing -- sort\n",
    "   first by last name and then by first name. (When you get\n",
    "   it to work, experiment by listing only the 10 first\n",
    "   students, then try to list only students 11-20, etc.)."
   ]
  },
  {
   "cell_type": "code",
   "execution_count": null,
   "id": "ff31712b",
   "metadata": {
    "attributes": {
     "classes": [
      "clear"
     ],
     "id": ""
    }
   },
   "outputs": [],
   "source": [
    "%%sql\n"
   ]
  },
  {
   "cell_type": "markdown",
   "id": "a4d179bb",
   "metadata": {},
   "source": [
    "c) What are the names of the students who were born in 1985?\n",
    "   [4]"
   ]
  },
  {
   "cell_type": "code",
   "execution_count": null,
   "id": "d385bd3c",
   "metadata": {
    "attributes": {
     "classes": [
      "clear"
     ],
     "id": ""
    }
   },
   "outputs": [],
   "source": [
    "%%sql\n"
   ]
  },
  {
   "cell_type": "markdown",
   "id": "d446d267",
   "metadata": {},
   "source": [
    "d) The next-to-last digit in the social security number is\n",
    "   even for females, and odd for males. List the first names\n",
    "   of all female students in our database alphabetically --\n",
    "   _each name should occur only once_. Hint: the `substr`\n",
    "   function can be useful. [20]"
   ]
  },
  {
   "cell_type": "code",
   "execution_count": null,
   "id": "04f411ae",
   "metadata": {
    "attributes": {
     "classes": [
      "clear"
     ],
     "id": ""
    }
   },
   "outputs": [],
   "source": [
    "%%sql\n"
   ]
  },
  {
   "cell_type": "markdown",
   "id": "a2b7eb23",
   "metadata": {},
   "source": [
    "e) How many students are registered in the database?"
   ]
  },
  {
   "cell_type": "code",
   "execution_count": null,
   "id": "85cb86b7",
   "metadata": {
    "attributes": {
     "classes": [
      "clear"
     ],
     "id": ""
    }
   },
   "outputs": [],
   "source": [
    "%%sql\n"
   ]
  },
  {
   "cell_type": "markdown",
   "id": "d92ab868",
   "metadata": {},
   "source": [
    "_Optional_: Now try to output the number of names in the\n",
    "   listing in (d) using `count`. It turns out that this is a\n",
    "   little bit tricky, we need to make sure we use the word\n",
    "   `DISTINCT` in the right place (look carefully in the\n",
    "   [documentation](https://sqlite.org/lang_aggfunc.html)).\n",
    "\n",
    "\n",
    "f) Which courses are offered by the department of\n",
    "   Mathematics (their course codes have the form `FMAxxx`)?\n",
    "   [22]"
   ]
  },
  {
   "cell_type": "code",
   "execution_count": null,
   "id": "326a7703",
   "metadata": {
    "attributes": {
     "classes": [
      "clear"
     ],
     "id": ""
    }
   },
   "outputs": [],
   "source": [
    "%%sql\n"
   ]
  },
  {
   "cell_type": "markdown",
   "id": "76895ee4",
   "metadata": {},
   "source": [
    "g) Which courses give more than 7.5 credits? [16]"
   ]
  },
  {
   "cell_type": "code",
   "execution_count": null,
   "id": "ec7c24bb",
   "metadata": {
    "attributes": {
     "classes": [
      "clear"
     ],
     "id": ""
    }
   },
   "outputs": [],
   "source": [
    "%%sql\n"
   ]
  },
  {
   "cell_type": "markdown",
   "id": "5df24d35",
   "metadata": {},
   "source": [
    "h) How may courses are there for each level (`G1`, `G2`, and\n",
    "   `A`)?"
   ]
  },
  {
   "cell_type": "code",
   "execution_count": null,
   "id": "1ed3fc85",
   "metadata": {
    "attributes": {
     "classes": [
      "clear"
     ],
     "id": ""
    }
   },
   "outputs": [],
   "source": [
    "%%sql\n"
   ]
  },
  {
   "cell_type": "markdown",
   "id": "68437101",
   "metadata": {},
   "source": [
    "In the next few problems, we'll look at the results of the\n",
    "student with the social security number 910101–1234 -- to\n",
    "make things _a lot_ easier, you can create a `VIEW` with all\n",
    "his results."
   ]
  },
  {
   "cell_type": "code",
   "execution_count": null,
   "id": "e0dda75e",
   "metadata": {
    "attributes": {
     "classes": [
      "clear"
     ],
     "id": ""
    }
   },
   "outputs": [],
   "source": [
    "%%sql\n",
    "DROP VIEW IF EXISTS ...;\n",
    "CREATE VIEW ... AS"
   ]
  },
  {
   "cell_type": "markdown",
   "id": "79926465",
   "metadata": {},
   "source": [
    "i) Which courses (course codes only) have been taken by the\n",
    "   student with the social security number 910101–1234? [35]"
   ]
  },
  {
   "cell_type": "code",
   "execution_count": null,
   "id": "ec6b8a0b",
   "metadata": {
    "attributes": {
     "classes": [
      "clear"
     ],
     "id": ""
    }
   },
   "outputs": [],
   "source": [
    "%%sql\n"
   ]
  },
  {
   "cell_type": "markdown",
   "id": "3aa1000e",
   "metadata": {},
   "source": [
    "j) What are the names of these courses, and how many credits\n",
    "   do they give?"
   ]
  },
  {
   "cell_type": "code",
   "execution_count": null,
   "id": "f67cc264",
   "metadata": {
    "attributes": {
     "classes": [
      "clear"
     ],
     "id": ""
    }
   },
   "outputs": [],
   "source": [
    "%%sql\n"
   ]
  },
  {
   "cell_type": "markdown",
   "id": "c0ec33b6",
   "metadata": {},
   "source": [
    "k) How many credits has the student taken?"
   ]
  },
  {
   "cell_type": "code",
   "execution_count": null,
   "id": "d6ba4be1",
   "metadata": {
    "attributes": {
     "classes": [
      "clear"
     ],
     "id": ""
    }
   },
   "outputs": [],
   "source": [
    "%%sql\n"
   ]
  },
  {
   "cell_type": "markdown",
   "id": "8b143068",
   "metadata": {},
   "source": [
    "l) What is the student’s grade average? We can calculate the\n",
    "   average either just as the average of all grades\n",
    "   (unweighted), or use the credits for each course as a\n",
    "   weight and calculate a weighted average. Try to do the\n",
    "   calculation both ways (the weighted average can be\n",
    "   calculated in just one line of code, but we only require\n",
    "   that you calculate the unweighted average, so don't spend\n",
    "   too much time on getting the weighted average right)."
   ]
  },
  {
   "cell_type": "code",
   "execution_count": null,
   "id": "2fe8dee8",
   "metadata": {
    "attributes": {
     "classes": [
      "clear"
     ],
     "id": ""
    }
   },
   "outputs": [],
   "source": [
    "%%sql\n"
   ]
  },
  {
   "cell_type": "markdown",
   "id": "861164e7",
   "metadata": {},
   "source": [
    "m) Which students have taken 0 credits? [11] This problem\n",
    "   can be solved in several ways, first do it with an outer\n",
    "   join:"
   ]
  },
  {
   "cell_type": "code",
   "execution_count": null,
   "id": "b2b1d32c",
   "metadata": {
    "attributes": {
     "classes": [
      "clear"
     ],
     "id": ""
    }
   },
   "outputs": [],
   "source": [
    "%%sql\n"
   ]
  },
  {
   "cell_type": "markdown",
   "id": "92681108",
   "metadata": {},
   "source": [
    "Now do the same thing using a subquery:"
   ]
  },
  {
   "cell_type": "code",
   "execution_count": null,
   "id": "f5177550",
   "metadata": {
    "attributes": {
     "classes": [
      "clear"
     ],
     "id": ""
    }
   },
   "outputs": [],
   "source": [
    "%%sql\n"
   ]
  },
  {
   "cell_type": "markdown",
   "id": "0949c130",
   "metadata": {},
   "source": [
    "n) List the names and average grades of the 10 students with\n",
    "   the highest grade average? You can use the unweighted\n",
    "   average."
   ]
  },
  {
   "cell_type": "code",
   "execution_count": null,
   "id": "17463741",
   "metadata": {
    "attributes": {
     "classes": [
      "clear"
     ],
     "id": ""
    }
   },
   "outputs": [],
   "source": [
    "%%sql\n"
   ]
  },
  {
   "cell_type": "markdown",
   "id": "6054c197",
   "metadata": {},
   "source": [
    "o) List the social security number and total number of\n",
    "   credits for all students. Students with no credits should\n",
    "   be included in the listing, with 0 credits (not `NULL`).\n",
    "\n",
    "   If you do this with an outer join (and I recommend you\n",
    "   try it!) you might want to use the function\n",
    "   `coalesce(v1, v2, ...)`; it returns the first value which\n",
    "   is not `NULL`, so `coalesce(avg(grade), 0)` would give 0\n",
    "   if the were no grades (i.e., if `grade` were `NULL`), you\n",
    "   can also try the `ifnull` function.\n",
    "\n",
    "   (It may be a little bit tricky to get this query right,\n",
    "   if you're missing the students with 0 credits, don't\n",
    "   worry, your TA will help you get it right). [72]"
   ]
  },
  {
   "cell_type": "code",
   "execution_count": null,
   "id": "02b509b9",
   "metadata": {
    "attributes": {
     "classes": [
      "clear"
     ],
     "id": ""
    }
   },
   "outputs": [],
   "source": [
    "%%sql\n"
   ]
  },
  {
   "cell_type": "markdown",
   "id": "1668a1e1",
   "metadata": {},
   "source": [
    "p) Do all students have unique names (first name _and_ last\n",
    "   name)? If not, show the full name and social security\n",
    "   number for all students who have a namesake. [7]\n",
    "\n",
    "   As usual there are several ways of solving this, try to\n",
    "   solve it using a `WITH`-statement where you create a\n",
    "   table with all duplicate names, and then use it in a\n",
    "   `JOIN`:"
   ]
  },
  {
   "cell_type": "code",
   "execution_count": null,
   "id": "fb3bd203",
   "metadata": {
    "attributes": {
     "classes": [
      "clear"
     ],
     "id": ""
    }
   },
   "outputs": [],
   "source": [
    "%%sql\n"
   ]
  },
  {
   "cell_type": "markdown",
   "id": "410ea095",
   "metadata": {},
   "source": [
    "q) _Optional:_ List all students who have a an average grade\n",
    "   higher than the average of all other students with the\n",
    "   same first name. Try to use weighted averages for the\n",
    "   invididual students, and compare to just the average of\n",
    "   averages for the namesakes (we could have weighted their\n",
    "   averages according to how many total credits they have,\n",
    "   but that would be a bit over the top). Here you can use\n",
    "   either a correlated subquery, or a CTE and a `JOIN`."
   ]
  },
  {
   "cell_type": "code",
   "execution_count": null,
   "id": "36586803",
   "metadata": {
    "attributes": {
     "classes": [
      "clear"
     ],
     "id": ""
    }
   },
   "outputs": [],
   "source": [
    "%%sql\n"
   ]
  }
 ],
 "metadata": {},
 "nbformat": 4,
 "nbformat_minor": 5
}
